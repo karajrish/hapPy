{
 "cells": [
  {
   "cell_type": "code",
   "execution_count": null,
   "metadata": {},
   "outputs": [],
   "source": [
    "import pandas as pd\n"
   ]
  },
  {
   "cell_type": "code",
   "execution_count": null,
   "metadata": {},
   "outputs": [],
   "source": [
    "import string\n",
    "from nltk.stem import SnowballStemmer\n",
    "\n",
    "def stem(sentence):\n",
    "    sno = SnowballStemmer('english')\n",
    "    filtered_sentence = []\n",
    "    \n",
    "    def is_valid_word(w):\n",
    "        return w.isalpha()\n",
    "    \n",
    "    for w in sentence.split():\n",
    "        if is_valid_word(w):\n",
    "            word_stem = sno.stem(w)\n",
    "            filtered_sentence.append(word_stem)\n",
    "                \n",
    "    return \" \".join(filtered_sentence)\n",
    "\n",
    "def preprocess(text):\n",
    "    # Removing \\n\n",
    "    text = text.replace(\"\\n\", \"\")\n",
    "    \n",
    "    # Removing deleted and removed submissions\n",
    "    if text in [\"[deleted]\", \"[removed]\"]:\n",
    "        return None\n",
    "    \n",
    "    # Retaining posts between 10 and 300\n",
    "    max_len = 300\n",
    "    if len(text) > max_len:\n",
    "        return None\n",
    "    min_len = 10\n",
    "    if len(text) < min_len:\n",
    "        return None\n",
    "    \n",
    "    # removing punctuation\n",
    "    translate_table = str.maketrans('', '', string.punctuation)\n",
    "    text = text.translate(translate_table)\n",
    "    \n",
    "    # lowercase\n",
    "    text = text.lower()\n",
    "    \n",
    "    #stemming\n",
    "    text = stem(text)\n",
    "    \n",
    "    return text"
   ]
  }
 ],
 "metadata": {
  "kernelspec": {
   "display_name": "Python 3",
   "language": "python",
   "name": "python3"
  },
  "language_info": {
   "codemirror_mode": {
    "name": "ipython",
    "version": 3
   },
   "file_extension": ".py",
   "mimetype": "text/x-python",
   "name": "python",
   "nbconvert_exporter": "python",
   "pygments_lexer": "ipython3",
   "version": "3.7.4"
  }
 },
 "nbformat": 4,
 "nbformat_minor": 2
}
