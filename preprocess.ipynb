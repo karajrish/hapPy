{
 "cells": [
  {
   "cell_type": "code",
   "execution_count": 7,
   "metadata": {},
   "outputs": [],
   "source": [
    "import pandas as pd\n",
    "import numpy as np"
   ]
  },
  {
   "cell_type": "code",
   "execution_count": 64,
   "metadata": {},
   "outputs": [],
   "source": [
    "import string\n",
    "from nltk.stem import SnowballStemmer\n",
    "\n",
    "def stem(sentence):\n",
    "    sno = SnowballStemmer('english')\n",
    "    filtered_sentence = []\n",
    "    \n",
    "    def is_valid_word(w):\n",
    "        return w.isalpha()\n",
    "    \n",
    "    for w in sentence.split():\n",
    "        if is_valid_word(w):\n",
    "            word_stem = sno.stem(w)\n",
    "            filtered_sentence.append(word_stem)\n",
    "                \n",
    "    return \" \".join(filtered_sentence)\n",
    "\n",
    "def preprocess(text):\n",
    "    if not type(text) == str and np.isnan(text):\n",
    "        return None\n",
    "    # Removing \\n\n",
    "    text = text.replace(\"\\n\", \"\")\n",
    "    \n",
    "    # Removing deleted and removed submissions\n",
    "    if text in [\"[deleted]\", \"[removed]\"]:\n",
    "        return None\n",
    "    \n",
    "    # Retaining posts between 10 and 300\n",
    "    max_len = 300\n",
    "    if len(text) > max_len:\n",
    "        return None\n",
    "    min_len = 10\n",
    "    if len(text) < min_len:\n",
    "        return None\n",
    "    \n",
    "    # removing punctuation\n",
    "    translate_table = str.maketrans('', '', string.punctuation)\n",
    "    text = text.translate(translate_table)\n",
    "    \n",
    "    # lowercase\n",
    "    text = text.lower()\n",
    "    \n",
    "    #stemming\n",
    "    text = stem(text)\n",
    "    \n",
    "    return text"
   ]
  },
  {
   "cell_type": "markdown",
   "metadata": {},
   "source": [
    "## Depression"
   ]
  },
  {
   "cell_type": "code",
   "execution_count": 65,
   "metadata": {},
   "outputs": [],
   "source": [
    "depression_df = pd.read_csv(\"depression_posts.csv\")"
   ]
  },
  {
   "cell_type": "code",
   "execution_count": 66,
   "metadata": {},
   "outputs": [],
   "source": [
    "depression_df['text'] = depression_df['text'].map(preprocess)"
   ]
  },
  {
   "cell_type": "code",
   "execution_count": 67,
   "metadata": {},
   "outputs": [],
   "source": [
    "preprocessed_depression_df = depression_df.dropna()"
   ]
  },
  {
   "cell_type": "code",
   "execution_count": 68,
   "metadata": {},
   "outputs": [],
   "source": [
    "preprocessed_depression_df.to_csv(\"preprocessed_depression_posts.csv\")"
   ]
  },
  {
   "cell_type": "code",
   "execution_count": null,
   "metadata": {},
   "outputs": [],
   "source": []
  },
  {
   "cell_type": "markdown",
   "metadata": {},
   "source": [
    "## Control Group"
   ]
  },
  {
   "cell_type": "code",
   "execution_count": 69,
   "metadata": {},
   "outputs": [],
   "source": [
    "cg_df = pd.read_csv(\"control_group_posts.csv\")"
   ]
  },
  {
   "cell_type": "code",
   "execution_count": 70,
   "metadata": {},
   "outputs": [],
   "source": [
    "cg_df['text'] = cg_df['text'].map(preprocess)"
   ]
  },
  {
   "cell_type": "code",
   "execution_count": 71,
   "metadata": {},
   "outputs": [],
   "source": [
    "prepreocessed_cg_df = cg_df.dropna()"
   ]
  },
  {
   "cell_type": "code",
   "execution_count": 72,
   "metadata": {},
   "outputs": [
    {
     "data": {
      "text/plain": [
       "                                                                                                                                                                                                                  57\n",
       "think about it                                                                                                                                                                                                    25\n",
       "chang my mind                                                                                                                                                                                                     14\n",
       "rose are red violet are blue hello human be sort by new                                                                                                                                                           11\n",
       "bottom text                                                                                                                                                                                                        7\n",
       "                                                                                                                                                                                                                  ..\n",
       "hospit hôspitalgarag garagesix sixgym gymnasehotel hôtelpharmaci pharmacierestaur restaurantpronounc them slight differ or even chang one or two letter doesnt make it a new languag french is rip off english     1\n",
       "consid how hard it is to get delici sauc from plate and how much get wast                                                                                                                                          1\n",
       "it usual take a year colleg degre with a master in english literatur to understand the first time you read it                                                                                                      1\n",
       "of cours this has not alway been so in the histori of the english languag and is more of a recent phenomenon                                                                                                       1\n",
       "mother your wrong                                                                                                                                                                                                  1\n",
       "Name: text, Length: 9205, dtype: int64"
      ]
     },
     "execution_count": 72,
     "metadata": {},
     "output_type": "execute_result"
    }
   ],
   "source": [
    "prepreocessed_cg_df['text'].value_counts()"
   ]
  },
  {
   "cell_type": "code",
   "execution_count": 74,
   "metadata": {},
   "outputs": [
    {
     "data": {
      "text/html": [
       "<div>\n",
       "<style scoped>\n",
       "    .dataframe tbody tr th:only-of-type {\n",
       "        vertical-align: middle;\n",
       "    }\n",
       "\n",
       "    .dataframe tbody tr th {\n",
       "        vertical-align: top;\n",
       "    }\n",
       "\n",
       "    .dataframe thead th {\n",
       "        text-align: right;\n",
       "    }\n",
       "</style>\n",
       "<table border=\"1\" class=\"dataframe\">\n",
       "  <thead>\n",
       "    <tr style=\"text-align: right;\">\n",
       "      <th></th>\n",
       "      <th>Unnamed: 0</th>\n",
       "      <th>text</th>\n",
       "    </tr>\n",
       "  </thead>\n",
       "  <tbody>\n",
       "    <tr>\n",
       "      <td>9</td>\n",
       "      <td>abkgda</td>\n",
       "      <td>who would do this im afraid to eat someth from...</td>\n",
       "    </tr>\n",
       "    <tr>\n",
       "      <td>13</td>\n",
       "      <td>abkeaj</td>\n",
       "      <td>happi januari everyon</td>\n",
       "    </tr>\n",
       "    <tr>\n",
       "      <td>16</td>\n",
       "      <td>abkcb2</td>\n",
       "      <td>gggggrrrrraaaaaaaahahaahahhahhhhh</td>\n",
       "    </tr>\n",
       "    <tr>\n",
       "      <td>51</td>\n",
       "      <td>abjzmz</td>\n",
       "      <td>beer pizza wyngz shot of meemaw cough medicin ...</td>\n",
       "    </tr>\n",
       "    <tr>\n",
       "      <td>54</td>\n",
       "      <td>abjyie</td>\n",
       "      <td>what a tradit we have</td>\n",
       "    </tr>\n",
       "    <tr>\n",
       "      <td>...</td>\n",
       "      <td>...</td>\n",
       "      <td>...</td>\n",
       "    </tr>\n",
       "    <tr>\n",
       "      <td>116831</td>\n",
       "      <td>ehm1cc</td>\n",
       "      <td>the club penguin is kill becaus the iceberg ju...</td>\n",
       "    </tr>\n",
       "    <tr>\n",
       "      <td>116832</td>\n",
       "      <td>ehm16z</td>\n",
       "      <td>never understood those both</td>\n",
       "    </tr>\n",
       "    <tr>\n",
       "      <td>116847</td>\n",
       "      <td>ehlttx</td>\n",
       "      <td>i know it proper ettiqutt to pick it up but pu...</td>\n",
       "    </tr>\n",
       "    <tr>\n",
       "      <td>116849</td>\n",
       "      <td>ehltcb</td>\n",
       "      <td>if you get what i mean</td>\n",
       "    </tr>\n",
       "    <tr>\n",
       "      <td>116854</td>\n",
       "      <td>ehlqrl</td>\n",
       "      <td>computerprogram languagecept</td>\n",
       "    </tr>\n",
       "  </tbody>\n",
       "</table>\n",
       "<p>9366 rows × 2 columns</p>\n",
       "</div>"
      ],
      "text/plain": [
       "       Unnamed: 0                                               text\n",
       "9          abkgda  who would do this im afraid to eat someth from...\n",
       "13         abkeaj                              happi januari everyon\n",
       "16         abkcb2                  gggggrrrrraaaaaaaahahaahahhahhhhh\n",
       "51         abjzmz  beer pizza wyngz shot of meemaw cough medicin ...\n",
       "54         abjyie                              what a tradit we have\n",
       "...           ...                                                ...\n",
       "116831     ehm1cc  the club penguin is kill becaus the iceberg ju...\n",
       "116832     ehm16z                        never understood those both\n",
       "116847     ehlttx  i know it proper ettiqutt to pick it up but pu...\n",
       "116849     ehltcb                             if you get what i mean\n",
       "116854     ehlqrl                       computerprogram languagecept\n",
       "\n",
       "[9366 rows x 2 columns]"
      ]
     },
     "execution_count": 74,
     "metadata": {},
     "output_type": "execute_result"
    }
   ],
   "source": [
    "prepreocessed_cg_df"
   ]
  },
  {
   "cell_type": "code",
   "execution_count": 75,
   "metadata": {},
   "outputs": [],
   "source": [
    "prepreocessed_cg_df.to_csv(\"preprocessed_control_group_posts.csv\")"
   ]
  },
  {
   "cell_type": "code",
   "execution_count": null,
   "metadata": {},
   "outputs": [],
   "source": []
  }
 ],
 "metadata": {
  "kernelspec": {
   "display_name": "Python 3",
   "language": "python",
   "name": "python3"
  },
  "language_info": {
   "codemirror_mode": {
    "name": "ipython",
    "version": 3
   },
   "file_extension": ".py",
   "mimetype": "text/x-python",
   "name": "python",
   "nbconvert_exporter": "python",
   "pygments_lexer": "ipython3",
   "version": "3.7.4"
  }
 },
 "nbformat": 4,
 "nbformat_minor": 2
}
