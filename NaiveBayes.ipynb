{
 "cells": [
  {
   "cell_type": "code",
   "execution_count": 1,
   "metadata": {},
   "outputs": [],
   "source": [
    "import pandas as pd\n",
    "import numpy as np\n",
    "from sklearn.naive_bayes import MultinomialNB\n",
    "\n",
    "import helper\n",
    "import text_embeddings\n",
    "import performance\n",
    "import models\n",
    "import predict"
   ]
  },
  {
   "cell_type": "markdown",
   "metadata": {},
   "source": [
    "# 1. Load data"
   ]
  },
  {
   "cell_type": "code",
   "execution_count": 2,
   "metadata": {},
   "outputs": [],
   "source": [
    "x, y = helper.load_data()"
   ]
  },
  {
   "cell_type": "markdown",
   "metadata": {},
   "source": [
    "# 2. Split data into train/test"
   ]
  },
  {
   "cell_type": "code",
   "execution_count": 3,
   "metadata": {},
   "outputs": [],
   "source": [
    "x_train, x_test, y_train, y_test = helper.split_data(x, y)"
   ]
  },
  {
   "cell_type": "markdown",
   "metadata": {},
   "source": [
    "# 3. Text embedding"
   ]
  },
  {
   "cell_type": "code",
   "execution_count": 4,
   "metadata": {},
   "outputs": [],
   "source": [
    "x_train_features, x_test_features, vectorizer = text_embeddings.encode_bag_of_words(x_train, x_test, 'text')"
   ]
  },
  {
   "cell_type": "markdown",
   "metadata": {},
   "source": [
    "# 4. Grid Search using "
   ]
  },
  {
   "cell_type": "markdown",
   "metadata": {},
   "source": [
    "-  https://scikit-learn.org/stable/modules/generated/sklearn.linear_model.SGDClassifier.html#sklearn.linear_model.SGDClassifier\n",
    "-  https://scikit-learn.org/stable/modules/kernel_approximation.html  "
   ]
  },
  {
   "cell_type": "code",
   "execution_count": 5,
   "metadata": {},
   "outputs": [],
   "source": [
    "final_x_train = x_train_features['text']['data']\n",
    "final_y_train = y_train\n",
    "\n",
    "final_x_test = x_test_features['text']['data']\n",
    "final_y_test = y_test"
   ]
  },
  {
   "cell_type": "code",
   "execution_count": 6,
   "metadata": {},
   "outputs": [
    {
     "name": "stdout",
     "output_type": "stream",
     "text": [
      "CPU times: user 1.51 s, sys: 143 ms, total: 1.65 s\n",
      "Wall time: 1.86 s\n"
     ]
    },
    {
     "data": {
      "text/html": [
       "<div>\n",
       "<style scoped>\n",
       "    .dataframe tbody tr th:only-of-type {\n",
       "        vertical-align: middle;\n",
       "    }\n",
       "\n",
       "    .dataframe tbody tr th {\n",
       "        vertical-align: top;\n",
       "    }\n",
       "\n",
       "    .dataframe thead th {\n",
       "        text-align: right;\n",
       "    }\n",
       "</style>\n",
       "<table border=\"1\" class=\"dataframe\">\n",
       "  <thead>\n",
       "    <tr style=\"text-align: right;\">\n",
       "      <th></th>\n",
       "      <th>param_alpha</th>\n",
       "      <th>mean_train_score</th>\n",
       "      <th>mean_test_score</th>\n",
       "      <th>mean_train_score-mean_test_score</th>\n",
       "    </tr>\n",
       "  </thead>\n",
       "  <tbody>\n",
       "    <tr>\n",
       "      <td>0</td>\n",
       "      <td>0.0001</td>\n",
       "      <td>0.972232</td>\n",
       "      <td>0.944082</td>\n",
       "      <td>0.028150</td>\n",
       "    </tr>\n",
       "    <tr>\n",
       "      <td>1</td>\n",
       "      <td>0.001</td>\n",
       "      <td>0.971498</td>\n",
       "      <td>0.946644</td>\n",
       "      <td>0.024854</td>\n",
       "    </tr>\n",
       "    <tr>\n",
       "      <td>2</td>\n",
       "      <td>0.01</td>\n",
       "      <td>0.969855</td>\n",
       "      <td>0.949079</td>\n",
       "      <td>0.020776</td>\n",
       "    </tr>\n",
       "    <tr>\n",
       "      <td>3</td>\n",
       "      <td>0.1</td>\n",
       "      <td>0.965763</td>\n",
       "      <td>0.949333</td>\n",
       "      <td>0.016430</td>\n",
       "    </tr>\n",
       "    <tr>\n",
       "      <td>4</td>\n",
       "      <td>1</td>\n",
       "      <td>0.957432</td>\n",
       "      <td>0.944723</td>\n",
       "      <td>0.012709</td>\n",
       "    </tr>\n",
       "    <tr>\n",
       "      <td>5</td>\n",
       "      <td>2</td>\n",
       "      <td>0.956170</td>\n",
       "      <td>0.944797</td>\n",
       "      <td>0.011374</td>\n",
       "    </tr>\n",
       "    <tr>\n",
       "      <td>6</td>\n",
       "      <td>3</td>\n",
       "      <td>0.956779</td>\n",
       "      <td>0.946420</td>\n",
       "      <td>0.010360</td>\n",
       "    </tr>\n",
       "    <tr>\n",
       "      <td>7</td>\n",
       "      <td>4</td>\n",
       "      <td>0.957872</td>\n",
       "      <td>0.948375</td>\n",
       "      <td>0.009496</td>\n",
       "    </tr>\n",
       "    <tr>\n",
       "      <td>8</td>\n",
       "      <td>5</td>\n",
       "      <td>0.958950</td>\n",
       "      <td>0.950175</td>\n",
       "      <td>0.008775</td>\n",
       "    </tr>\n",
       "    <tr>\n",
       "      <td>9</td>\n",
       "      <td>6</td>\n",
       "      <td>0.959852</td>\n",
       "      <td>0.951677</td>\n",
       "      <td>0.008175</td>\n",
       "    </tr>\n",
       "    <tr>\n",
       "      <td>10</td>\n",
       "      <td>7</td>\n",
       "      <td>0.960481</td>\n",
       "      <td>0.952844</td>\n",
       "      <td>0.007637</td>\n",
       "    </tr>\n",
       "    <tr>\n",
       "      <td>11</td>\n",
       "      <td>8</td>\n",
       "      <td>0.960870</td>\n",
       "      <td>0.953690</td>\n",
       "      <td>0.007180</td>\n",
       "    </tr>\n",
       "    <tr>\n",
       "      <td>12</td>\n",
       "      <td>9</td>\n",
       "      <td>0.961031</td>\n",
       "      <td>0.954172</td>\n",
       "      <td>0.006859</td>\n",
       "    </tr>\n",
       "    <tr>\n",
       "      <td>13</td>\n",
       "      <td>10</td>\n",
       "      <td>0.961009</td>\n",
       "      <td>0.954403</td>\n",
       "      <td>0.006606</td>\n",
       "    </tr>\n",
       "    <tr>\n",
       "      <td>14</td>\n",
       "      <td>50</td>\n",
       "      <td>0.940110</td>\n",
       "      <td>0.936708</td>\n",
       "      <td>0.003403</td>\n",
       "    </tr>\n",
       "    <tr>\n",
       "      <td>15</td>\n",
       "      <td>100</td>\n",
       "      <td>0.927773</td>\n",
       "      <td>0.925293</td>\n",
       "      <td>0.002480</td>\n",
       "    </tr>\n",
       "  </tbody>\n",
       "</table>\n",
       "</div>"
      ],
      "text/plain": [
       "   param_alpha  mean_train_score  mean_test_score  \\\n",
       "0       0.0001          0.972232         0.944082   \n",
       "1        0.001          0.971498         0.946644   \n",
       "2         0.01          0.969855         0.949079   \n",
       "3          0.1          0.965763         0.949333   \n",
       "4            1          0.957432         0.944723   \n",
       "5            2          0.956170         0.944797   \n",
       "6            3          0.956779         0.946420   \n",
       "7            4          0.957872         0.948375   \n",
       "8            5          0.958950         0.950175   \n",
       "9            6          0.959852         0.951677   \n",
       "10           7          0.960481         0.952844   \n",
       "11           8          0.960870         0.953690   \n",
       "12           9          0.961031         0.954172   \n",
       "13          10          0.961009         0.954403   \n",
       "14          50          0.940110         0.936708   \n",
       "15         100          0.927773         0.925293   \n",
       "\n",
       "    mean_train_score-mean_test_score  \n",
       "0                           0.028150  \n",
       "1                           0.024854  \n",
       "2                           0.020776  \n",
       "3                           0.016430  \n",
       "4                           0.012709  \n",
       "5                           0.011374  \n",
       "6                           0.010360  \n",
       "7                           0.009496  \n",
       "8                           0.008775  \n",
       "9                           0.008175  \n",
       "10                          0.007637  \n",
       "11                          0.007180  \n",
       "12                          0.006859  \n",
       "13                          0.006606  \n",
       "14                          0.003403  \n",
       "15                          0.002480  "
      ]
     },
     "execution_count": 6,
     "metadata": {},
     "output_type": "execute_result"
    }
   ],
   "source": [
    "%%time\n",
    "import matplotlib.pyplot as plt\n",
    "from sklearn.naive_bayes import MultinomialNB\n",
    "from sklearn.model_selection import GridSearchCV\n",
    "from scipy.stats import randint as sp_randint\n",
    "\n",
    "\n",
    "alpha_range = [ 0.0001,0.001,0.01,0.1,1,2,3,4,5,6,7,8,9,10,50,100]\n",
    "bayes = models.multinomialNB()\n",
    "params = {'alpha' : alpha_range}\n",
    "search = GridSearchCV(bayes,\n",
    "                      params,\n",
    "                      cv=5,\n",
    "                      scoring=\"roc_auc\",\n",
    "                     return_train_score=True)\n",
    "\n",
    "\n",
    "search.fit(final_x_train, final_y_train)\n",
    "results = pd.DataFrame.from_dict(search.cv_results_)\n",
    "results = results.sort_values(['param_alpha'])\n",
    "results['mean_train_score-mean_test_score'] = results['mean_train_score'] - results['mean_test_score']\n",
    "results[['param_alpha','mean_train_score','mean_test_score', 'mean_train_score-mean_test_score']]"
   ]
  },
  {
   "cell_type": "code",
   "execution_count": 7,
   "metadata": {},
   "outputs": [
    {
     "data": {
      "image/png": "[encoded data removed]",
      "text/plain": [
       "<Figure size 432x288 with 1 Axes>"
      ]
     },
     "metadata": {
      "needs_background": "light"
     },
     "output_type": "display_data"
    }
   ],
   "source": [
    "# Train\n",
    "plt.plot(results['param_alpha'], results['mean_train_score'], label=\"Train AUC\")\n",
    "plt.scatter(results['param_alpha'], results['mean_train_score'], label=\"Train AUC points\")\n",
    "\n",
    "# Validation\n",
    "plt.plot(results['param_alpha'], results['mean_test_score'], label=\"Validation AUC\")\n",
    "plt.scatter(results['param_alpha'], results['mean_test_score'], label=\"Validation AUC points\")\n",
    "\n",
    "plt.xlabel(\"Alpha: hyperparameter\")\n",
    "plt.ylabel(\"AUC\")\n",
    "plt.title(\"AUC vs alpha curves\")\n",
    "plt.legend()\n",
    "plt.show()"
   ]
  },
  {
   "cell_type": "markdown",
   "metadata": {},
   "source": [
    "# 5. Prediction"
   ]
  },
  {
   "cell_type": "code",
   "execution_count": 8,
   "metadata": {},
   "outputs": [],
   "source": [
    "alpha = 10\n",
    "naive_bayes = MultinomialNB(alpha=alpha)\n",
    "naive_bayes.fit(final_x_train, final_y_train)\n",
    "\n",
    "final_y_train_pred = naive_bayes.predict_proba(final_x_train)\n",
    "final_y_test_pred = naive_bayes.predict_proba(final_x_test)\n"
   ]
  },
  {
   "cell_type": "code",
   "execution_count": null,
   "metadata": {
    "scrolled": true
   },
   "outputs": [],
   "source": [
    "from sklearn.metrics import roc_curve, auc\n",
    "\n",
    "train_fpr, train_tpr, train_thresholds = roc_curve(final_y_train, final_y_train_pred[:,1])\n",
    "test_fpr, test_tpr, test_thresholds = roc_curve(final_y_test, final_y_test_pred[:,1])\n",
    "\n",
    "\n",
    "plt.plot(train_fpr, train_tpr, label=\"train AUC =\"+str(auc(train_fpr, train_tpr)))\n",
    "plt.plot(test_fpr, test_tpr, label=\"test AUC =\"+str(auc(test_fpr, test_tpr)))\n",
    "plt.legend()\n",
    "plt.xlabel(\"FPR\")\n",
    "plt.ylabel(\"TPR\")\n",
    "plt.title(\"ROC PLOTS for Train and Test sets\")\n",
    "plt.grid()\n",
    "plt.show()"
   ]
  },
  {
   "cell_type": "code",
   "execution_count": null,
   "metadata": {},
   "outputs": [],
   "source": []
  },
  {
   "cell_type": "code",
   "execution_count": null,
   "metadata": {},
   "outputs": [],
   "source": [
    "# import numpy as np\n",
    "\n",
    "# # we are writing our own function for predict, with defined thresould\n",
    "# # we will pick a threshold that will give the least fpr\n",
    "# def find_best_threshold(fpr, tpr, threshould):\n",
    "#     t = threshould[np.argmax(tpr*(1-fpr))]\n",
    "#     # (tpr*(1-fpr)) will be maximum if your fpr is very low and tpr is very high\n",
    "#     print(\"the maximum value of tpr*(1-fpr)\", max(tpr*(1-fpr)), \"for threshold\", np.round(t,3))\n",
    "#     return t\n",
    "\n",
    "# def predict_with_best_t(proba, threshould):\n",
    "#     predictions = []\n",
    "#     for i in proba:\n",
    "#         if i>=threshould:\n",
    "#             predictions.append(1)\n",
    "#         else:\n",
    "#             predictions.append(0)\n",
    "#     return predictions\n",
    "\n",
    "# final_y_train_pred_prob = naive_bayes.predict_proba(final_x_train)[:,1]\n",
    "# final_y_test_pred_prob = naive_bayes.predict_proba(final_x_test)[:,1]\n",
    "\n",
    "# final_y_train_pred = predict_with_best_t(final_y_train_pred_prob, \n",
    "#                                          find_best_threshold(train_fpr, train_tpr, train_thresholds))\n",
    "# final_y_test_pred = predict_with_best_t(final_y_test_pred_prob, \n",
    "#                                          find_best_threshold(test_fpr, test_tpr, test_thresholds))\n",
    "\n",
    "\n"
   ]
  },
  {
   "cell_type": "markdown",
   "metadata": {},
   "source": [
    "# 6. Confusion Matrix"
   ]
  },
  {
   "cell_type": "code",
   "execution_count": null,
   "metadata": {},
   "outputs": [],
   "source": [
    "final_y_train_pred[:,1]"
   ]
  },
  {
   "cell_type": "code",
   "execution_count": null,
   "metadata": {},
   "outputs": [],
   "source": [
    "final_y_train_pred = naive_bayes.predict(final_x_train)\n",
    "final_y_test_pred = naive_bayes.predict(final_x_test)"
   ]
  },
  {
   "cell_type": "code",
   "execution_count": null,
   "metadata": {},
   "outputs": [],
   "source": [
    "from sklearn.metrics import confusion_matrix\n",
    "\n",
    "# Train\n",
    "train_cm = confusion_matrix(final_y_train, final_y_train_pred)\n",
    "train_cm = pd.DataFrame(train_cm, columns=['actual_0', 'actual_1'],\n",
    "                            index=['predicted_0','predicted_1'])\n",
    "print(\"Confusion matrix for Train set\")\n",
    "print(train_cm)\n",
    "print()\n",
    "\n",
    "# Test\n",
    "test_cm = confusion_matrix(final_y_test, final_y_test_pred)\n",
    "test_cm = pd.DataFrame(test_cm, columns=['actual_0', 'actual_1'],\n",
    "                            index=['predicted_0','predicted_1'])\n",
    "print(\"Confusion matrix for Test set\")\n",
    "print(test_cm)"
   ]
  },
  {
   "cell_type": "markdown",
   "metadata": {},
   "source": [
    "# 7. Performance Measures"
   ]
  },
  {
   "cell_type": "code",
   "execution_count": 25,
   "metadata": {},
   "outputs": [
    {
     "data": {
      "text/plain": [
       "{'accuracy': 0.8570678796361092,\n",
       " 'f1': 0.9085720680393912,\n",
       " 'confusion_matrix':              actual_0  actual_1\n",
       " predicted_0      1679      1437\n",
       " predicted_1       197      8119,\n",
       " 'roc_auc': 0.9547163169996931}"
      ]
     },
     "execution_count": 25,
     "metadata": {},
     "output_type": "execute_result"
    }
   ],
   "source": [
    "performance_measures = performance.get_performance_measures(naive_bayes, final_x_test, final_y_test)\n",
    "performance_measures"
   ]
  },
  {
   "cell_type": "markdown",
   "metadata": {},
   "source": [
    "# Test"
   ]
  },
  {
   "cell_type": "code",
   "execution_count": 26,
   "metadata": {},
   "outputs": [
    {
     "data": {
      "text/plain": [
       "array([1])"
      ]
     },
     "execution_count": 26,
     "metadata": {},
     "output_type": "execute_result"
    }
   ],
   "source": [
    "text = \"bit strang heavi focus old mytholog lot boot\"\n",
    "predict.is_text_depressed(naive_bayes, text, \n",
    "                         model_id=\"NB\",\n",
    "                         vectorizer=vectorizer)"
   ]
  },
  {
   "cell_type": "markdown",
   "metadata": {},
   "source": [
    "# Future Work\n",
    "- Explore string kernel https://github.com/timshenkao/StringKernelSVM\n",
    "- word2vec using SVM (https://shop.tarjomeplus.com/UploadFileEn/TPLUS_EN_3959.pdf)\n",
    "- https://www.analyticsvidhya.com/blog/2018/04/a-comprehensive-guide-to-understand-and-implement-text-classification-in-python/"
   ]
  },
  {
   "cell_type": "code",
   "execution_count": null,
   "metadata": {},
   "outputs": [],
   "source": []
  }
 ],
 "metadata": {
  "kernelspec": {
   "display_name": "Python 3",
   "language": "python",
   "name": "python3"
  },
  "language_info": {
   "codemirror_mode": {
    "name": "ipython",
    "version": 3
   },
   "file_extension": ".py",
   "mimetype": "text/x-python",
   "name": "python",
   "nbconvert_exporter": "python",
   "pygments_lexer": "ipython3",
   "version": "3.7.4"
  }
 },
 "nbformat": 4,
 "nbformat_minor": 2
}
