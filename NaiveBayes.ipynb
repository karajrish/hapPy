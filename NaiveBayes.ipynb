{
 "cells": [
  {
   "cell_type": "code",
   "execution_count": 1,
   "metadata": {},
   "outputs": [],
   "source": [
    "import pandas as pd\n",
    "import numpy as np"
   ]
  },
  {
   "cell_type": "markdown",
   "metadata": {},
   "source": [
    "# 1. Load data"
   ]
  },
  {
   "cell_type": "code",
   "execution_count": 2,
   "metadata": {},
   "outputs": [],
   "source": [
    "import pandas\n",
    "depressed_data = pandas.read_csv('preprocessed_depression_posts.csv')\n",
    "control_group_data = pandas.read_csv('preprocessed_control_group_posts.csv')"
   ]
  },
  {
   "cell_type": "code",
   "execution_count": 3,
   "metadata": {},
   "outputs": [],
   "source": [
    "depressed_data['depressed'] = 1"
   ]
  },
  {
   "cell_type": "code",
   "execution_count": 4,
   "metadata": {},
   "outputs": [],
   "source": [
    "depressed_data = depressed_data[['text','depressed']]"
   ]
  },
  {
   "cell_type": "code",
   "execution_count": 5,
   "metadata": {},
   "outputs": [],
   "source": [
    "control_group_data['depressed'] = 0"
   ]
  },
  {
   "cell_type": "code",
   "execution_count": 6,
   "metadata": {},
   "outputs": [],
   "source": [
    "control_group_data = control_group_data[['text','depressed']]"
   ]
  },
  {
   "cell_type": "code",
   "execution_count": 7,
   "metadata": {},
   "outputs": [],
   "source": [
    "all_data = pd.concat([control_group_data, depressed_data])"
   ]
  },
  {
   "cell_type": "code",
   "execution_count": 8,
   "metadata": {},
   "outputs": [],
   "source": [
    "x = all_data[['text']]"
   ]
  },
  {
   "cell_type": "code",
   "execution_count": 9,
   "metadata": {},
   "outputs": [],
   "source": [
    "y = all_data['depressed']"
   ]
  },
  {
   "cell_type": "markdown",
   "metadata": {},
   "source": [
    "# 2. Split data into train/test"
   ]
  },
  {
   "cell_type": "code",
   "execution_count": 10,
   "metadata": {},
   "outputs": [],
   "source": [
    "from sklearn.model_selection import train_test_split\n",
    "\n",
    "x_train, x_test, y_train, y_test = train_test_split(x, y, test_size=0.33, random_state=42)"
   ]
  },
  {
   "cell_type": "markdown",
   "metadata": {},
   "source": [
    "# 3. Text embedding"
   ]
  },
  {
   "cell_type": "code",
   "execution_count": 11,
   "metadata": {},
   "outputs": [],
   "source": [
    "from sklearn.feature_extraction.text import CountVectorizer\n",
    "\n",
    "def encode_text(xtrain, xtest, col_name, vectorizer):\n",
    "    \"\"\"\n",
    "    Given vectorizer, it will train xtrain[col_name] and transform xtrain[col_name] and xtest[col_name]\n",
    "    \n",
    "    @param vectorizer: sklearn.feature_extraction.text.{CountVectorizer, TfIdfVectorizer}\n",
    "    \"\"\"\n",
    "    vectorizer.fit(xtrain[col_name].values.astype(str))\n",
    "    train_features = vectorizer.transform(xtrain[col_name].values.astype(str))\n",
    "    test_features = vectorizer.transform(xtest[col_name].values.astype(str))\n",
    "    \n",
    "    \n",
    "    x_train_features = {}\n",
    "    x_test_features = {}\n",
    "    \n",
    "    x_train_features[col_name]= {\n",
    "        'data': train_features,\n",
    "        'names': vectorizer.get_feature_names()\n",
    "    }\n",
    "    x_test_features[col_name]= {\n",
    "        'data': test_features,\n",
    "        'names': vectorizer.get_feature_names()\n",
    "    }\n",
    "    return x_train_features, x_test_features\n",
    "    \n",
    "\n",
    "\n",
    "# Not choosing a higher ngram beccause stopwords were removed in preprocessed data\n",
    "essay_bow_vectorizer = CountVectorizer(ngram_range=(1,2), min_df=10)\n",
    "x_train_features, x_test_features = encode_text(x_train, x_test, 'text', essay_bow_vectorizer)"
   ]
  },
  {
   "cell_type": "markdown",
   "metadata": {},
   "source": [
    "# 4. Grid Search using "
   ]
  },
  {
   "cell_type": "markdown",
   "metadata": {},
   "source": [
    "-  https://scikit-learn.org/stable/modules/generated/sklearn.linear_model.SGDClassifier.html#sklearn.linear_model.SGDClassifier\n",
    "-  https://scikit-learn.org/stable/modules/kernel_approximation.html  "
   ]
  },
  {
   "cell_type": "code",
   "execution_count": 12,
   "metadata": {},
   "outputs": [],
   "source": [
    "final_x_train = x_train_features['text']['data']\n",
    "final_y_train = y_train\n",
    "\n",
    "final_x_test = x_test_features['text']['data']\n",
    "final_y_test = y_test"
   ]
  },
  {
   "cell_type": "code",
   "execution_count": 13,
   "metadata": {},
   "outputs": [
    {
     "name": "stdout",
     "output_type": "stream",
     "text": [
      "CPU times: user 1.89 s, sys: 302 ms, total: 2.19 s\n",
      "Wall time: 2.45 s\n"
     ]
    },
    {
     "data": {
      "text/html": [
       "<div>\n",
       "<style scoped>\n",
       "    .dataframe tbody tr th:only-of-type {\n",
       "        vertical-align: middle;\n",
       "    }\n",
       "\n",
       "    .dataframe tbody tr th {\n",
       "        vertical-align: top;\n",
       "    }\n",
       "\n",
       "    .dataframe thead th {\n",
       "        text-align: right;\n",
       "    }\n",
       "</style>\n",
       "<table border=\"1\" class=\"dataframe\">\n",
       "  <thead>\n",
       "    <tr style=\"text-align: right;\">\n",
       "      <th></th>\n",
       "      <th>param_alpha</th>\n",
       "      <th>mean_train_score</th>\n",
       "      <th>mean_test_score</th>\n",
       "      <th>mean_train_score-mean_test_score</th>\n",
       "    </tr>\n",
       "  </thead>\n",
       "  <tbody>\n",
       "    <tr>\n",
       "      <td>0</td>\n",
       "      <td>0.0001</td>\n",
       "      <td>0.984281</td>\n",
       "      <td>0.960151</td>\n",
       "      <td>0.024131</td>\n",
       "    </tr>\n",
       "    <tr>\n",
       "      <td>1</td>\n",
       "      <td>0.001</td>\n",
       "      <td>0.982819</td>\n",
       "      <td>0.962934</td>\n",
       "      <td>0.019885</td>\n",
       "    </tr>\n",
       "    <tr>\n",
       "      <td>2</td>\n",
       "      <td>0.01</td>\n",
       "      <td>0.980075</td>\n",
       "      <td>0.963694</td>\n",
       "      <td>0.016381</td>\n",
       "    </tr>\n",
       "    <tr>\n",
       "      <td>3</td>\n",
       "      <td>0.1</td>\n",
       "      <td>0.974743</td>\n",
       "      <td>0.961464</td>\n",
       "      <td>0.013279</td>\n",
       "    </tr>\n",
       "    <tr>\n",
       "      <td>4</td>\n",
       "      <td>1</td>\n",
       "      <td>0.964565</td>\n",
       "      <td>0.953445</td>\n",
       "      <td>0.011120</td>\n",
       "    </tr>\n",
       "    <tr>\n",
       "      <td>5</td>\n",
       "      <td>2</td>\n",
       "      <td>0.962254</td>\n",
       "      <td>0.951836</td>\n",
       "      <td>0.010418</td>\n",
       "    </tr>\n",
       "    <tr>\n",
       "      <td>6</td>\n",
       "      <td>3</td>\n",
       "      <td>0.962401</td>\n",
       "      <td>0.952656</td>\n",
       "      <td>0.009745</td>\n",
       "    </tr>\n",
       "    <tr>\n",
       "      <td>7</td>\n",
       "      <td>4</td>\n",
       "      <td>0.963444</td>\n",
       "      <td>0.954380</td>\n",
       "      <td>0.009064</td>\n",
       "    </tr>\n",
       "    <tr>\n",
       "      <td>8</td>\n",
       "      <td>5</td>\n",
       "      <td>0.964737</td>\n",
       "      <td>0.956228</td>\n",
       "      <td>0.008509</td>\n",
       "    </tr>\n",
       "    <tr>\n",
       "      <td>9</td>\n",
       "      <td>6</td>\n",
       "      <td>0.965954</td>\n",
       "      <td>0.957904</td>\n",
       "      <td>0.008051</td>\n",
       "    </tr>\n",
       "    <tr>\n",
       "      <td>10</td>\n",
       "      <td>7</td>\n",
       "      <td>0.966974</td>\n",
       "      <td>0.959328</td>\n",
       "      <td>0.007646</td>\n",
       "    </tr>\n",
       "    <tr>\n",
       "      <td>11</td>\n",
       "      <td>8</td>\n",
       "      <td>0.967718</td>\n",
       "      <td>0.960454</td>\n",
       "      <td>0.007264</td>\n",
       "    </tr>\n",
       "    <tr>\n",
       "      <td>12</td>\n",
       "      <td>9</td>\n",
       "      <td>0.968166</td>\n",
       "      <td>0.961259</td>\n",
       "      <td>0.006908</td>\n",
       "    </tr>\n",
       "    <tr>\n",
       "      <td>13</td>\n",
       "      <td>10</td>\n",
       "      <td>0.968358</td>\n",
       "      <td>0.961723</td>\n",
       "      <td>0.006635</td>\n",
       "    </tr>\n",
       "    <tr>\n",
       "      <td>14</td>\n",
       "      <td>50</td>\n",
       "      <td>0.927364</td>\n",
       "      <td>0.923664</td>\n",
       "      <td>0.003699</td>\n",
       "    </tr>\n",
       "    <tr>\n",
       "      <td>15</td>\n",
       "      <td>100</td>\n",
       "      <td>0.902679</td>\n",
       "      <td>0.900001</td>\n",
       "      <td>0.002678</td>\n",
       "    </tr>\n",
       "  </tbody>\n",
       "</table>\n",
       "</div>"
      ],
      "text/plain": [
       "   param_alpha  mean_train_score  mean_test_score  \\\n",
       "0       0.0001          0.984281         0.960151   \n",
       "1        0.001          0.982819         0.962934   \n",
       "2         0.01          0.980075         0.963694   \n",
       "3          0.1          0.974743         0.961464   \n",
       "4            1          0.964565         0.953445   \n",
       "5            2          0.962254         0.951836   \n",
       "6            3          0.962401         0.952656   \n",
       "7            4          0.963444         0.954380   \n",
       "8            5          0.964737         0.956228   \n",
       "9            6          0.965954         0.957904   \n",
       "10           7          0.966974         0.959328   \n",
       "11           8          0.967718         0.960454   \n",
       "12           9          0.968166         0.961259   \n",
       "13          10          0.968358         0.961723   \n",
       "14          50          0.927364         0.923664   \n",
       "15         100          0.902679         0.900001   \n",
       "\n",
       "    mean_train_score-mean_test_score  \n",
       "0                           0.024131  \n",
       "1                           0.019885  \n",
       "2                           0.016381  \n",
       "3                           0.013279  \n",
       "4                           0.011120  \n",
       "5                           0.010418  \n",
       "6                           0.009745  \n",
       "7                           0.009064  \n",
       "8                           0.008509  \n",
       "9                           0.008051  \n",
       "10                          0.007646  \n",
       "11                          0.007264  \n",
       "12                          0.006908  \n",
       "13                          0.006635  \n",
       "14                          0.003699  \n",
       "15                          0.002678  "
      ]
     },
     "execution_count": 13,
     "metadata": {},
     "output_type": "execute_result"
    }
   ],
   "source": [
    "%%time\n",
    "import matplotlib.pyplot as plt\n",
    "from sklearn.naive_bayes import MultinomialNB\n",
    "from sklearn.model_selection import GridSearchCV\n",
    "from scipy.stats import randint as sp_randint\n",
    "\n",
    "\n",
    "alpha_range = [ 0.0001,0.001,0.01,0.1,1,2,3,4,5,6,7,8,9,10,50,100]\n",
    "bayes = MultinomialNB()\n",
    "params = {'alpha' : alpha_range}\n",
    "search = GridSearchCV(bayes,\n",
    "                      params,\n",
    "                      cv=5,\n",
    "                      scoring=\"roc_auc\",\n",
    "                     return_train_score=True)\n",
    "\n",
    "\n",
    "search.fit(final_x_train, final_y_train)\n",
    "results = pandas.DataFrame.from_dict(search.cv_results_)\n",
    "results = results.sort_values(['param_alpha'])\n",
    "results['mean_train_score-mean_test_score'] = results['mean_train_score'] - results['mean_test_score']\n",
    "results[['param_alpha','mean_train_score','mean_test_score', 'mean_train_score-mean_test_score']]"
   ]
  },
  {
   "cell_type": "code",
   "execution_count": 14,
   "metadata": {},
   "outputs": [
    {
     "data": {
      "image/png": "[encoded data removed]",
      "text/plain": [
       "<Figure size 432x288 with 1 Axes>"
      ]
     },
     "metadata": {
      "needs_background": "light"
     },
     "output_type": "display_data"
    }
   ],
   "source": [
    "# Train\n",
    "plt.plot(results['param_alpha'], results['mean_train_score'], label=\"Train AUC\")\n",
    "plt.scatter(results['param_alpha'], results['mean_train_score'], label=\"Train AUC points\")\n",
    "\n",
    "# Validation\n",
    "plt.plot(results['param_alpha'], results['mean_test_score'], label=\"Validation AUC\")\n",
    "plt.scatter(results['param_alpha'], results['mean_test_score'], label=\"Validation AUC points\")\n",
    "\n",
    "plt.xlabel(\"Alpha: hyperparameter\")\n",
    "plt.ylabel(\"AUC\")\n",
    "plt.title(\"AUC vs alpha curves\")\n",
    "plt.legend()\n",
    "plt.show()"
   ]
  },
  {
   "cell_type": "markdown",
   "metadata": {},
   "source": [
    "# 5. Prediction"
   ]
  },
  {
   "cell_type": "code",
   "execution_count": 15,
   "metadata": {},
   "outputs": [],
   "source": [
    "alpha = 10\n",
    "naive_bayes = MultinomialNB(alpha=alpha)\n",
    "naive_bayes.fit(final_x_train, final_y_train)\n",
    "\n",
    "final_y_train_pred = naive_bayes.predict_proba(final_x_train)\n",
    "final_y_test_pred = naive_bayes.predict_proba(final_x_test)\n"
   ]
  },
  {
   "cell_type": "code",
   "execution_count": null,
   "metadata": {
    "scrolled": true
   },
   "outputs": [],
   "source": [
    "from sklearn.metrics import roc_curve, auc\n",
    "\n",
    "train_fpr, train_tpr, train_thresholds = roc_curve(final_y_train, final_y_train_pred[:,1])\n",
    "test_fpr, test_tpr, test_thresholds = roc_curve(final_y_test, final_y_test_pred[:,1])\n",
    "\n",
    "\n",
    "plt.plot(train_fpr, train_tpr, label=\"train AUC =\"+str(auc(train_fpr, train_tpr)))\n",
    "plt.plot(test_fpr, test_tpr, label=\"test AUC =\"+str(auc(test_fpr, test_tpr)))\n",
    "plt.legend()\n",
    "plt.xlabel(\"FPR\")\n",
    "plt.ylabel(\"TPR\")\n",
    "plt.title(\"ROC PLOTS for Train and Test sets\")\n",
    "plt.grid()\n",
    "plt.show()"
   ]
  },
  {
   "cell_type": "code",
   "execution_count": null,
   "metadata": {},
   "outputs": [],
   "source": []
  },
  {
   "cell_type": "code",
   "execution_count": null,
   "metadata": {},
   "outputs": [],
   "source": [
    "# import numpy as np\n",
    "\n",
    "# # we are writing our own function for predict, with defined thresould\n",
    "# # we will pick a threshold that will give the least fpr\n",
    "# def find_best_threshold(fpr, tpr, threshould):\n",
    "#     t = threshould[np.argmax(tpr*(1-fpr))]\n",
    "#     # (tpr*(1-fpr)) will be maximum if your fpr is very low and tpr is very high\n",
    "#     print(\"the maximum value of tpr*(1-fpr)\", max(tpr*(1-fpr)), \"for threshold\", np.round(t,3))\n",
    "#     return t\n",
    "\n",
    "# def predict_with_best_t(proba, threshould):\n",
    "#     predictions = []\n",
    "#     for i in proba:\n",
    "#         if i>=threshould:\n",
    "#             predictions.append(1)\n",
    "#         else:\n",
    "#             predictions.append(0)\n",
    "#     return predictions\n",
    "\n",
    "# final_y_train_pred_prob = naive_bayes.predict_proba(final_x_train)[:,1]\n",
    "# final_y_test_pred_prob = naive_bayes.predict_proba(final_x_test)[:,1]\n",
    "\n",
    "# final_y_train_pred = predict_with_best_t(final_y_train_pred_prob, \n",
    "#                                          find_best_threshold(train_fpr, train_tpr, train_thresholds))\n",
    "# final_y_test_pred = predict_with_best_t(final_y_test_pred_prob, \n",
    "#                                          find_best_threshold(test_fpr, test_tpr, test_thresholds))\n",
    "\n",
    "\n"
   ]
  },
  {
   "cell_type": "markdown",
   "metadata": {},
   "source": [
    "# 6. Confusion Matrix"
   ]
  },
  {
   "cell_type": "code",
   "execution_count": null,
   "metadata": {},
   "outputs": [],
   "source": [
    "final_y_train_pred[:,1]"
   ]
  },
  {
   "cell_type": "code",
   "execution_count": null,
   "metadata": {},
   "outputs": [],
   "source": [
    "final_y_train_pred = naive_bayes.predict(final_x_train)\n",
    "final_y_test_pred = naive_bayes.predict(final_x_test)"
   ]
  },
  {
   "cell_type": "code",
   "execution_count": null,
   "metadata": {},
   "outputs": [],
   "source": [
    "from sklearn.metrics import confusion_matrix\n",
    "\n",
    "# Train\n",
    "train_cm = confusion_matrix(final_y_train, final_y_train_pred)\n",
    "train_cm = pandas.DataFrame(train_cm, columns=['actual_0', 'actual_1'],\n",
    "                            index=['predicted_0','predicted_1'])\n",
    "print(\"Confusion matrix for Train set\")\n",
    "print(train_cm)\n",
    "print()\n",
    "\n",
    "# Test\n",
    "test_cm = confusion_matrix(final_y_test, final_y_test_pred)\n",
    "test_cm = pandas.DataFrame(test_cm, columns=['actual_0', 'actual_1'],\n",
    "                            index=['predicted_0','predicted_1'])\n",
    "print(\"Confusion matrix for Test set\")\n",
    "print(test_cm)"
   ]
  },
  {
   "cell_type": "markdown",
   "metadata": {},
   "source": [
    "# 7. Future Work\n",
    "- Explore string kernel https://github.com/timshenkao/StringKernelSVM\n",
    "- word2vec using SVM (https://shop.tarjomeplus.com/UploadFileEn/TPLUS_EN_3959.pdf)\n",
    "- https://www.analyticsvidhya.com/blog/2018/04/a-comprehensive-guide-to-understand-and-implement-text-classification-in-python/"
   ]
  },
  {
   "cell_type": "code",
   "execution_count": null,
   "metadata": {},
   "outputs": [],
   "source": []
  }
 ],
 "metadata": {
  "kernelspec": {
   "display_name": "Python 3",
   "language": "python",
   "name": "python3"
  },
  "language_info": {
   "codemirror_mode": {
    "name": "ipython",
    "version": 3
   },
   "file_extension": ".py",
   "mimetype": "text/x-python",
   "name": "python",
   "nbconvert_exporter": "python",
   "pygments_lexer": "ipython3",
   "version": "3.7.4"
  }
 },
 "nbformat": 4,
 "nbformat_minor": 2
}
