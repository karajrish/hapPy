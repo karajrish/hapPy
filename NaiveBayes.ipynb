{
 "cells": [
  {
   "cell_type": "code",
   "execution_count": 1,
   "metadata": {},
   "outputs": [],
   "source": [
    "import pandas as pd\n",
    "import numpy as np\n",
    "from sklearn.naive_bayes import MultinomialNB\n",
    "import matplotlib.pyplot as plt\n",
    "\n",
    "import helper\n",
    "import text_embeddings\n",
    "import performance\n",
    "import models\n",
    "import predict"
   ]
  },
  {
   "cell_type": "markdown",
   "metadata": {},
   "source": [
    "# 1. Load data"
   ]
  },
  {
   "cell_type": "code",
   "execution_count": 2,
   "metadata": {},
   "outputs": [],
   "source": [
    "x, y = helper.load_data()"
   ]
  },
  {
   "cell_type": "markdown",
   "metadata": {},
   "source": [
    "# 2. Split data into train/test"
   ]
  },
  {
   "cell_type": "code",
   "execution_count": 3,
   "metadata": {},
   "outputs": [],
   "source": [
    "x_train, x_test, y_train, y_test = helper.split_data(x, y)"
   ]
  },
  {
   "cell_type": "code",
   "execution_count": 4,
   "metadata": {},
   "outputs": [
    {
     "data": {
      "text/plain": [
       "116322"
      ]
     },
     "execution_count": 4,
     "metadata": {},
     "output_type": "execute_result"
    }
   ],
   "source": [
    "len(x_train) "
   ]
  },
  {
   "cell_type": "code",
   "execution_count": 5,
   "metadata": {},
   "outputs": [
    {
     "data": {
      "text/plain": [
       "57294"
      ]
     },
     "execution_count": 5,
     "metadata": {},
     "output_type": "execute_result"
    }
   ],
   "source": [
    "len(x_test)"
   ]
  },
  {
   "cell_type": "markdown",
   "metadata": {},
   "source": [
    "# 3. Text embedding"
   ]
  },
  {
   "cell_type": "code",
   "execution_count": 6,
   "metadata": {},
   "outputs": [],
   "source": [
    "x_train_features, x_test_features, vectorizer = text_embeddings.encode_tdfif(x_train, x_test, 'text')"
   ]
  },
  {
   "cell_type": "markdown",
   "metadata": {},
   "source": [
    "# 4. Grid Search using "
   ]
  },
  {
   "cell_type": "markdown",
   "metadata": {},
   "source": [
    "-  https://scikit-learn.org/stable/modules/generated/sklearn.linear_model.SGDClassifier.html#sklearn.linear_model.SGDClassifier\n",
    "-  https://scikit-learn.org/stable/modules/kernel_approximation.html  "
   ]
  },
  {
   "cell_type": "code",
   "execution_count": 7,
   "metadata": {},
   "outputs": [],
   "source": [
    "final_x_train = x_train_features['text']['data']\n",
    "final_y_train = y_train\n",
    "\n",
    "final_x_test = x_test_features['text']['data']\n",
    "final_y_test = y_test"
   ]
  },
  {
   "cell_type": "code",
   "execution_count": 8,
   "metadata": {},
   "outputs": [
    {
     "name": "stdout",
     "output_type": "stream",
     "text": [
      "CPU times: user 5.65 s, sys: 645 ms, total: 6.3 s\n",
      "Wall time: 6.42 s\n"
     ]
    },
    {
     "data": {
      "text/html": [
       "<div>\n",
       "<style scoped>\n",
       "    .dataframe tbody tr th:only-of-type {\n",
       "        vertical-align: middle;\n",
       "    }\n",
       "\n",
       "    .dataframe tbody tr th {\n",
       "        vertical-align: top;\n",
       "    }\n",
       "\n",
       "    .dataframe thead th {\n",
       "        text-align: right;\n",
       "    }\n",
       "</style>\n",
       "<table border=\"1\" class=\"dataframe\">\n",
       "  <thead>\n",
       "    <tr style=\"text-align: right;\">\n",
       "      <th></th>\n",
       "      <th>param_alpha</th>\n",
       "      <th>mean_train_score</th>\n",
       "      <th>mean_test_score</th>\n",
       "      <th>mean_train_score-mean_test_score</th>\n",
       "    </tr>\n",
       "  </thead>\n",
       "  <tbody>\n",
       "    <tr>\n",
       "      <td>0</td>\n",
       "      <td>0.0001</td>\n",
       "      <td>0.989655</td>\n",
       "      <td>0.980159</td>\n",
       "      <td>0.009495</td>\n",
       "    </tr>\n",
       "    <tr>\n",
       "      <td>1</td>\n",
       "      <td>0.001</td>\n",
       "      <td>0.989480</td>\n",
       "      <td>0.981325</td>\n",
       "      <td>0.008155</td>\n",
       "    </tr>\n",
       "    <tr>\n",
       "      <td>2</td>\n",
       "      <td>0.01</td>\n",
       "      <td>0.989092</td>\n",
       "      <td>0.982433</td>\n",
       "      <td>0.006660</td>\n",
       "    </tr>\n",
       "    <tr>\n",
       "      <td>3</td>\n",
       "      <td>0.1</td>\n",
       "      <td>0.988208</td>\n",
       "      <td>0.983091</td>\n",
       "      <td>0.005117</td>\n",
       "    </tr>\n",
       "    <tr>\n",
       "      <td>4</td>\n",
       "      <td>1</td>\n",
       "      <td>0.986199</td>\n",
       "      <td>0.982590</td>\n",
       "      <td>0.003610</td>\n",
       "    </tr>\n",
       "    <tr>\n",
       "      <td>5</td>\n",
       "      <td>2</td>\n",
       "      <td>0.985189</td>\n",
       "      <td>0.982018</td>\n",
       "      <td>0.003172</td>\n",
       "    </tr>\n",
       "    <tr>\n",
       "      <td>6</td>\n",
       "      <td>3</td>\n",
       "      <td>0.984483</td>\n",
       "      <td>0.981559</td>\n",
       "      <td>0.002925</td>\n",
       "    </tr>\n",
       "    <tr>\n",
       "      <td>7</td>\n",
       "      <td>4</td>\n",
       "      <td>0.983927</td>\n",
       "      <td>0.981181</td>\n",
       "      <td>0.002746</td>\n",
       "    </tr>\n",
       "    <tr>\n",
       "      <td>8</td>\n",
       "      <td>5</td>\n",
       "      <td>0.983462</td>\n",
       "      <td>0.980852</td>\n",
       "      <td>0.002610</td>\n",
       "    </tr>\n",
       "    <tr>\n",
       "      <td>9</td>\n",
       "      <td>6</td>\n",
       "      <td>0.983063</td>\n",
       "      <td>0.980562</td>\n",
       "      <td>0.002501</td>\n",
       "    </tr>\n",
       "    <tr>\n",
       "      <td>10</td>\n",
       "      <td>7</td>\n",
       "      <td>0.982712</td>\n",
       "      <td>0.980303</td>\n",
       "      <td>0.002409</td>\n",
       "    </tr>\n",
       "    <tr>\n",
       "      <td>11</td>\n",
       "      <td>8</td>\n",
       "      <td>0.982397</td>\n",
       "      <td>0.980062</td>\n",
       "      <td>0.002335</td>\n",
       "    </tr>\n",
       "    <tr>\n",
       "      <td>12</td>\n",
       "      <td>9</td>\n",
       "      <td>0.982109</td>\n",
       "      <td>0.979842</td>\n",
       "      <td>0.002267</td>\n",
       "    </tr>\n",
       "    <tr>\n",
       "      <td>13</td>\n",
       "      <td>10</td>\n",
       "      <td>0.981843</td>\n",
       "      <td>0.979636</td>\n",
       "      <td>0.002207</td>\n",
       "    </tr>\n",
       "    <tr>\n",
       "      <td>14</td>\n",
       "      <td>50</td>\n",
       "      <td>0.976567</td>\n",
       "      <td>0.975127</td>\n",
       "      <td>0.001439</td>\n",
       "    </tr>\n",
       "    <tr>\n",
       "      <td>15</td>\n",
       "      <td>100</td>\n",
       "      <td>0.973452</td>\n",
       "      <td>0.972232</td>\n",
       "      <td>0.001221</td>\n",
       "    </tr>\n",
       "  </tbody>\n",
       "</table>\n",
       "</div>"
      ],
      "text/plain": [
       "   param_alpha  mean_train_score  mean_test_score  \\\n",
       "0       0.0001          0.989655         0.980159   \n",
       "1        0.001          0.989480         0.981325   \n",
       "2         0.01          0.989092         0.982433   \n",
       "3          0.1          0.988208         0.983091   \n",
       "4            1          0.986199         0.982590   \n",
       "5            2          0.985189         0.982018   \n",
       "6            3          0.984483         0.981559   \n",
       "7            4          0.983927         0.981181   \n",
       "8            5          0.983462         0.980852   \n",
       "9            6          0.983063         0.980562   \n",
       "10           7          0.982712         0.980303   \n",
       "11           8          0.982397         0.980062   \n",
       "12           9          0.982109         0.979842   \n",
       "13          10          0.981843         0.979636   \n",
       "14          50          0.976567         0.975127   \n",
       "15         100          0.973452         0.972232   \n",
       "\n",
       "    mean_train_score-mean_test_score  \n",
       "0                           0.009495  \n",
       "1                           0.008155  \n",
       "2                           0.006660  \n",
       "3                           0.005117  \n",
       "4                           0.003610  \n",
       "5                           0.003172  \n",
       "6                           0.002925  \n",
       "7                           0.002746  \n",
       "8                           0.002610  \n",
       "9                           0.002501  \n",
       "10                          0.002409  \n",
       "11                          0.002335  \n",
       "12                          0.002267  \n",
       "13                          0.002207  \n",
       "14                          0.001439  \n",
       "15                          0.001221  "
      ]
     },
     "execution_count": 8,
     "metadata": {},
     "output_type": "execute_result"
    }
   ],
   "source": [
    "%%time\n",
    "\n",
    "from sklearn.naive_bayes import MultinomialNB\n",
    "from sklearn.model_selection import GridSearchCV\n",
    "from scipy.stats import randint as sp_randint\n",
    "\n",
    "\n",
    "alpha_range = [ 0.0001,0.001,0.01,0.1,1,2,3,4,5,6,7,8,9,10,50,100]\n",
    "bayes = models.multinomialNB()\n",
    "params = {'alpha' : alpha_range}\n",
    "search = GridSearchCV(bayes,\n",
    "                      params,\n",
    "                      cv=5,\n",
    "                      scoring=\"roc_auc\",\n",
    "                     return_train_score=True)\n",
    "\n",
    "\n",
    "search.fit(final_x_train, final_y_train)\n",
    "results = pd.DataFrame.from_dict(search.cv_results_)\n",
    "results = results.sort_values(['param_alpha'])\n",
    "results['mean_train_score-mean_test_score'] = results['mean_train_score'] - results['mean_test_score']\n",
    "results[['param_alpha','mean_train_score','mean_test_score', 'mean_train_score-mean_test_score']]"
   ]
  },
  {
   "cell_type": "code",
   "execution_count": null,
   "metadata": {},
   "outputs": [],
   "source": [
    "# Train\n",
    "plt.plot(results['param_alpha'], results['mean_train_score'], label=\"Train AUC\")\n",
    "plt.scatter(results['param_alpha'], results['mean_train_score'], label=\"Train AUC points\")\n",
    "\n",
    "# Validation\n",
    "plt.plot(results['param_alpha'], results['mean_test_score'], label=\"Validation AUC\")\n",
    "plt.scatter(results['param_alpha'], results['mean_test_score'], label=\"Validation AUC points\")\n",
    "\n",
    "plt.xlabel(\"Alpha: hyperparameter\")\n",
    "plt.ylabel(\"AUC\")\n",
    "plt.title(\"AUC vs alpha curves\")\n",
    "plt.legend()\n",
    "plt.show()"
   ]
  },
  {
   "cell_type": "markdown",
   "metadata": {},
   "source": [
    "# 5. Prediction"
   ]
  },
  {
   "cell_type": "code",
   "execution_count": 9,
   "metadata": {},
   "outputs": [],
   "source": [
    "alpha = 10\n",
    "naive_bayes = MultinomialNB(alpha=alpha)\n",
    "naive_bayes.fit(final_x_train, final_y_train)\n",
    "\n",
    "final_y_train_pred = naive_bayes.predict_proba(final_x_train)\n",
    "final_y_test_pred = naive_bayes.predict_proba(final_x_test)\n"
   ]
  },
  {
   "cell_type": "code",
   "execution_count": 10,
   "metadata": {
    "scrolled": true
   },
   "outputs": [
    {
     "data": {
      "image/png": "[encoded data removed]",
      "text/plain": [
       "<Figure size 432x288 with 1 Axes>"
      ]
     },
     "metadata": {
      "needs_background": "light"
     },
     "output_type": "display_data"
    }
   ],
   "source": [
    "from sklearn.metrics import roc_curve, auc\n",
    "\n",
    "train_fpr, train_tpr, train_thresholds = roc_curve(final_y_train, final_y_train_pred[:,1])\n",
    "test_fpr, test_tpr, test_thresholds = roc_curve(final_y_test, final_y_test_pred[:,1])\n",
    "\n",
    "\n",
    "plt.plot(train_fpr, train_tpr, label=\"train AUC =\"+str(auc(train_fpr, train_tpr)))\n",
    "plt.plot(test_fpr, test_tpr, label=\"test AUC =\"+str(auc(test_fpr, test_tpr)))\n",
    "plt.legend()\n",
    "plt.xlabel(\"FPR\")\n",
    "plt.ylabel(\"TPR\")\n",
    "plt.title(\"ROC PLOTS for Train and Test sets\")\n",
    "plt.grid()\n",
    "plt.show()"
   ]
  },
  {
   "cell_type": "code",
   "execution_count": null,
   "metadata": {},
   "outputs": [],
   "source": []
  },
  {
   "cell_type": "markdown",
   "metadata": {},
   "source": [
    "# 7. Performance Measures"
   ]
  },
  {
   "cell_type": "code",
   "execution_count": 11,
   "metadata": {},
   "outputs": [
    {
     "data": {
      "text/plain": [
       "{'accuracy': 0.9287883548015499,\n",
       " 'f1': 0.9162630325917414,\n",
       " 'confusion_matrix':              actual_0  actual_1\n",
       " predicted_0     30892      2012\n",
       " predicted_1      2068     22322,\n",
       " 'roc_auc': 0.9787500827384884}"
      ]
     },
     "execution_count": 11,
     "metadata": {},
     "output_type": "execute_result"
    }
   ],
   "source": [
    "performance_measures = performance.get_performance_measures(naive_bayes, final_x_test, final_y_test)\n",
    "performance_measures"
   ]
  },
  {
   "cell_type": "markdown",
   "metadata": {},
   "source": [
    "# Test"
   ]
  },
  {
   "cell_type": "code",
   "execution_count": null,
   "metadata": {},
   "outputs": [],
   "source": [
    "predict.manual_test(naive_bayes, \n",
    "                         model_id=\"NB\",\n",
    "                         vectorizer=vectorizer)"
   ]
  },
  {
   "cell_type": "code",
   "execution_count": 29,
   "metadata": {},
   "outputs": [],
   "source": [
    "test_results = predict.test_tweets_from_file(naive_bayes,\n",
    "                             \"bot/tweets.json\",\n",
    "                             model_id=\"NB\",\n",
    "                             vectorizer=vectorizer)"
   ]
  },
  {
   "cell_type": "code",
   "execution_count": 34,
   "metadata": {},
   "outputs": [
    {
     "name": "stdout",
     "output_type": "stream",
     "text": [
      "0    128\n",
      "1     78\n",
      "Name: is_depressed(model output), dtype: int64\n"
     ]
    }
   ],
   "source": [
    "print(test_results['is_depressed(model output)'].value_counts())"
   ]
  },
  {
   "cell_type": "code",
   "execution_count": 30,
   "metadata": {},
   "outputs": [],
   "source": [
    "depressed_tweets = test_results[test_results['is_depressed(model output)'] == 1]"
   ]
  },
  {
   "cell_type": "code",
   "execution_count": 43,
   "metadata": {},
   "outputs": [
    {
     "data": {
      "text/html": [
       "<div>\n",
       "<style scoped>\n",
       "    .dataframe tbody tr th:only-of-type {\n",
       "        vertical-align: middle;\n",
       "    }\n",
       "\n",
       "    .dataframe tbody tr th {\n",
       "        vertical-align: top;\n",
       "    }\n",
       "\n",
       "    .dataframe thead th {\n",
       "        text-align: right;\n",
       "    }\n",
       "</style>\n",
       "<table border=\"1\" class=\"dataframe\">\n",
       "  <thead>\n",
       "    <tr style=\"text-align: right;\">\n",
       "      <th></th>\n",
       "      <th>Text</th>\n",
       "      <th>is_depressed(model output)</th>\n",
       "      <th>model output probability (if any)</th>\n",
       "    </tr>\n",
       "  </thead>\n",
       "  <tbody>\n",
       "    <tr>\n",
       "      <td>117</td>\n",
       "      <td>I don’t know how I feel about this</td>\n",
       "      <td>1</td>\n",
       "      <td>0.986199</td>\n",
       "    </tr>\n",
       "    <tr>\n",
       "      <td>66</td>\n",
       "      <td>Wake up feeling like fuck my life</td>\n",
       "      <td>1</td>\n",
       "      <td>0.972719</td>\n",
       "    </tr>\n",
       "    <tr>\n",
       "      <td>75</td>\n",
       "      <td>You can’t even know what’s happening in that p...</td>\n",
       "      <td>1</td>\n",
       "      <td>0.955285</td>\n",
       "    </tr>\n",
       "    <tr>\n",
       "      <td>204</td>\n",
       "      <td>@Sassie_Lassie They should live the life they ...</td>\n",
       "      <td>1</td>\n",
       "      <td>0.933688</td>\n",
       "    </tr>\n",
       "    <tr>\n",
       "      <td>147</td>\n",
       "      <td>Trump has not been completely honest about any...</td>\n",
       "      <td>1</td>\n",
       "      <td>0.926096</td>\n",
       "    </tr>\n",
       "    <tr>\n",
       "      <td>14</td>\n",
       "      <td>Doctors don’t make you healthy. Teachers don’t...</td>\n",
       "      <td>1</td>\n",
       "      <td>0.919606</td>\n",
       "    </tr>\n",
       "    <tr>\n",
       "      <td>152</td>\n",
       "      <td>My friend, it’s been a while..\\nStill pains me...</td>\n",
       "      <td>1</td>\n",
       "      <td>0.908330</td>\n",
       "    </tr>\n",
       "    <tr>\n",
       "      <td>201</td>\n",
       "      <td>A life time ago it used to bother me what peop...</td>\n",
       "      <td>1</td>\n",
       "      <td>0.903317</td>\n",
       "    </tr>\n",
       "    <tr>\n",
       "      <td>62</td>\n",
       "      <td>Slowing falling down into the hole of no retur...</td>\n",
       "      <td>1</td>\n",
       "      <td>0.893720</td>\n",
       "    </tr>\n",
       "    <tr>\n",
       "      <td>129</td>\n",
       "      <td>Feeling Drained? Claim 5 Ways To Enjoy Better ...</td>\n",
       "      <td>1</td>\n",
       "      <td>0.889163</td>\n",
       "    </tr>\n",
       "    <tr>\n",
       "      <td>198</td>\n",
       "      <td>Can’t wait to bawl my eyes out when shonda KIL...</td>\n",
       "      <td>1</td>\n",
       "      <td>0.883084</td>\n",
       "    </tr>\n",
       "    <tr>\n",
       "      <td>136</td>\n",
       "      <td>Today I have an appointment that is going to c...</td>\n",
       "      <td>1</td>\n",
       "      <td>0.868224</td>\n",
       "    </tr>\n",
       "    <tr>\n",
       "      <td>131</td>\n",
       "      <td>Is your depression caused by your thyroid? htt...</td>\n",
       "      <td>1</td>\n",
       "      <td>0.867678</td>\n",
       "    </tr>\n",
       "    <tr>\n",
       "      <td>12</td>\n",
       "      <td>You are the reason of my life 😁💚\\n#MarkTuan_Ou...</td>\n",
       "      <td>1</td>\n",
       "      <td>0.856055</td>\n",
       "    </tr>\n",
       "    <tr>\n",
       "      <td>98</td>\n",
       "      <td>@LundiMali Honestly I'm not worried also, I me...</td>\n",
       "      <td>1</td>\n",
       "      <td>0.855175</td>\n",
       "    </tr>\n",
       "    <tr>\n",
       "      <td>24</td>\n",
       "      <td>We need stop becoming part of the problem and ...</td>\n",
       "      <td>1</td>\n",
       "      <td>0.848493</td>\n",
       "    </tr>\n",
       "    <tr>\n",
       "      <td>69</td>\n",
       "      <td>do yk tht feeling when u try to live peacefull...</td>\n",
       "      <td>1</td>\n",
       "      <td>0.847571</td>\n",
       "    </tr>\n",
       "    <tr>\n",
       "      <td>121</td>\n",
       "      <td>how my life got this point i dont know either</td>\n",
       "      <td>1</td>\n",
       "      <td>0.842958</td>\n",
       "    </tr>\n",
       "    <tr>\n",
       "      <td>54</td>\n",
       "      <td>#Iran\\nSeriously what are you up to?\\nWe human...</td>\n",
       "      <td>1</td>\n",
       "      <td>0.815754</td>\n",
       "    </tr>\n",
       "    <tr>\n",
       "      <td>174</td>\n",
       "      <td>What is life 😪</td>\n",
       "      <td>1</td>\n",
       "      <td>0.802920</td>\n",
       "    </tr>\n",
       "  </tbody>\n",
       "</table>\n",
       "</div>"
      ],
      "text/plain": [
       "                                                  Text  \\\n",
       "117                 I don’t know how I feel about this   \n",
       "66                   Wake up feeling like fuck my life   \n",
       "75   You can’t even know what’s happening in that p...   \n",
       "204  @Sassie_Lassie They should live the life they ...   \n",
       "147  Trump has not been completely honest about any...   \n",
       "14   Doctors don’t make you healthy. Teachers don’t...   \n",
       "152  My friend, it’s been a while..\\nStill pains me...   \n",
       "201  A life time ago it used to bother me what peop...   \n",
       "62   Slowing falling down into the hole of no retur...   \n",
       "129  Feeling Drained? Claim 5 Ways To Enjoy Better ...   \n",
       "198  Can’t wait to bawl my eyes out when shonda KIL...   \n",
       "136  Today I have an appointment that is going to c...   \n",
       "131  Is your depression caused by your thyroid? htt...   \n",
       "12   You are the reason of my life 😁💚\\n#MarkTuan_Ou...   \n",
       "98   @LundiMali Honestly I'm not worried also, I me...   \n",
       "24   We need stop becoming part of the problem and ...   \n",
       "69   do yk tht feeling when u try to live peacefull...   \n",
       "121      how my life got this point i dont know either   \n",
       "54   #Iran\\nSeriously what are you up to?\\nWe human...   \n",
       "174                                     What is life 😪   \n",
       "\n",
       "     is_depressed(model output)  model output probability (if any)  \n",
       "117                           1                           0.986199  \n",
       "66                            1                           0.972719  \n",
       "75                            1                           0.955285  \n",
       "204                           1                           0.933688  \n",
       "147                           1                           0.926096  \n",
       "14                            1                           0.919606  \n",
       "152                           1                           0.908330  \n",
       "201                           1                           0.903317  \n",
       "62                            1                           0.893720  \n",
       "129                           1                           0.889163  \n",
       "198                           1                           0.883084  \n",
       "136                           1                           0.868224  \n",
       "131                           1                           0.867678  \n",
       "12                            1                           0.856055  \n",
       "98                            1                           0.855175  \n",
       "24                            1                           0.848493  \n",
       "69                            1                           0.847571  \n",
       "121                           1                           0.842958  \n",
       "54                            1                           0.815754  \n",
       "174                           1                           0.802920  "
      ]
     },
     "execution_count": 43,
     "metadata": {},
     "output_type": "execute_result"
    }
   ],
   "source": [
    "depressed_tweets.sort_values(\"model output probability (if any)\", ascending=False).head(20)"
   ]
  },
  {
   "cell_type": "code",
   "execution_count": 31,
   "metadata": {},
   "outputs": [],
   "source": [
    "eighty = depressed_tweets[depressed_tweets['model output probability (if any)'] > 0.8]"
   ]
  },
  {
   "cell_type": "code",
   "execution_count": 32,
   "metadata": {},
   "outputs": [
    {
     "data": {
      "text/plain": [
       "array(['Doctors don’t make you healthy. Teachers don’t make you learn. Trainers don’t make you fit. Coaches don’t make you… https://t.co/sM4xYaYl3Y',\n",
       "       'A life time ago it used to bother me what people thought about me because at the time I thought I could control it… https://t.co/hJQuhJE7bv',\n",
       "       'Can’t wait to bawl my eyes out when shonda KILLS HIM LIKE EVERYONE ELSE',\n",
       "       'We need stop becoming part of the problem and trying to control things and bexome part of the solution to make life… https://t.co/A4lRK5nHIy',\n",
       "       'You are the reason of my life 😁💚\\n#MarkTuan_OuttaMyHead \\n#MarkTuan1stChineseSingle\\n#MarkTuan \\n#GOT7 \\n@GOT7Official',\n",
       "       'What is life 😪',\n",
       "       'You can’t even know what’s happening in that part of my life. Never!',\n",
       "       'Slowing falling down into the hole of no return my life is probably at n all time low I feel sad but no tears I wan… https://t.co/ptsm7mv8rd',\n",
       "       '@Sassie_Lassie They should live the life they want to live and everyone else needs to mind their own business.',\n",
       "       'Wake up feeling like fuck my life',\n",
       "       \"@LundiMali Honestly I'm not worried also, I mean there's nothing you can do to make a man faithful so I will never… https://t.co/IxZHTBwpgK\",\n",
       "       '@discordapp A life?',\n",
       "       'do yk tht feeling when u try to live peacefully and try to escape from this life and u find everyone around u even… https://t.co/9SskpkJU8Y',\n",
       "       'stan twt/real life https://t.co/MH3VyXiObh',\n",
       "       'My friend, it’s been a while..\\nStill pains me too see you in this condition \\nWe gon’ survive brah \\nFight to Win!\\nWi… https://t.co/vUAulKB3Zf',\n",
       "       'Trump has not been completely honest about anything his whole life',\n",
       "       \"Today I have an appointment that is going to change my life and I'm scared yet so excited😅\",\n",
       "       'Is your depression caused by your thyroid? https://t.co/ZxNdFGbjJz on @bloglovin',\n",
       "       'Feeling Drained? Claim 5 Ways To Enjoy Better Mental Health https://t.co/aflgCzI3pM on @bloglovin',\n",
       "       'how my life got this point i dont know either',\n",
       "       'I don’t know how I feel about this',\n",
       "       '#Iran\\nSeriously what are you up to?\\nWe human beings might do some wrong things n but we never make it reason to fig… https://t.co/xTXUJLy6bn'],\n",
       "      dtype=object)"
      ]
     },
     "execution_count": 32,
     "metadata": {},
     "output_type": "execute_result"
    }
   ],
   "source": [
    "eighty['Text'].values"
   ]
  },
  {
   "cell_type": "markdown",
   "metadata": {},
   "source": [
    "# Future Work\n",
    "- Explore string kernel https://github.com/timshenkao/StringKernelSVM\n",
    "- word2vec using SVM (https://shop.tarjomeplus.com/UploadFileEn/TPLUS_EN_3959.pdf)\n",
    "- https://www.analyticsvidhya.com/blog/2018/04/a-comprehensive-guide-to-understand-and-implement-text-classification-in-python/"
   ]
  },
  {
   "cell_type": "code",
   "execution_count": null,
   "metadata": {},
   "outputs": [],
   "source": []
  }
 ],
 "metadata": {
  "kernelspec": {
   "display_name": "Python 3",
   "language": "python",
   "name": "python3"
  },
  "language_info": {
   "codemirror_mode": {
    "name": "ipython",
    "version": 3
   },
   "file_extension": ".py",
   "mimetype": "text/x-python",
   "name": "python",
   "nbconvert_exporter": "python",
   "pygments_lexer": "ipython3",
   "version": "3.7.4"
  }
 },
 "nbformat": 4,
 "nbformat_minor": 2
}
